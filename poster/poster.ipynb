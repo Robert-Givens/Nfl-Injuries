{
  "cells": [
    {
      "cell_type": "raw",
      "metadata": {},
      "source": [
        "---\n",
        "title: What Effect Do Injuries Have on NFL Teams\n",
        "format:\n",
        "  poster-typst: \n",
        "    size: \"48x36\"\n",
        "    poster-authors: \"Robert Givens\"\n",
        "    departments: \"Department of Economics\"\n",
        "    institution-logo: \"./images/csuf.png\"\n",
        "    footer-text: \"NCUR 2023\"\n",
        "    footer-url: \"https://github.com/Robert-Givens/Nfl-Injuries.git\"\n",
        "    footer-emails: \"Robert.U.Givens@gmail.com\"\n",
        "    footer-color: \"ebcfb2\"\n",
        "---"
      ],
      "id": "657de1e2"
    },
    {
      "cell_type": "markdown",
      "metadata": {},
      "source": [
        "# Abstract\n",
        "\n",
        "I researched the effect injuries have on win probability for NFL Teams from the 2013 to the 2019 Seasons. I broke it down by amount of injuries, team effects, and position effects. I found there is minimal impact across most positions and generalizations. There is significant negative impact for QB, WR, and DL injuries in our data set.\n",
        "\n",
        "# Exploring Data\n",
        "\n",
        "![Positional Injury Impact on Win Probability](./images/position_win.png){width=\"100%\"}\n",
        "\n",
        "::: {.block fill=\"luma(230)\" inset=\"8pt\" radius=\"4pt\"}"
      ],
      "id": "501741ba"
    },
    {
      "cell_type": "markdown",
      "metadata": {},
      "source": [
        "# Insert the path to your saved CSV file below\n",
        "csv_file_path = 'poster/images/average_injuries_by_week_and_position.csv'\n",
        "\n",
        "# Load the table using pandas\n",
        "import pandas as pd\n",
        "average_injuries_table = pd.read_csv(csv_file_path)\n",
        "\n",
        "# Display the table\n",
        "average_injuries_table"
      ],
      "id": "6f42a935"
    }
  ],
  "metadata": {
    "kernelspec": {
      "name": "python3",
      "language": "python",
      "display_name": "Python 3 (ipykernel)"
    }
  },
  "nbformat": 4,
  "nbformat_minor": 5
}