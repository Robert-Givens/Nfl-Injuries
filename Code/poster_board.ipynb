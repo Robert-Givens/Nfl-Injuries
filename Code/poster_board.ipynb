{
  "cells": [
    {
      "cell_type": "raw",
      "metadata": {},
      "source": [
        "---\n",
        "title: This is an academic poster with typst and quarto!\n",
        "format:\n",
        "  poster: \n",
        "    size: \"36x24\"\n",
        "    poster-authors: \"A. Smith, B. Jones, C. Brown, D. Miller\"\n",
        "    departments: \"Department of Computer Science\"\n",
        "    footer-text: \"posit::conf 2023\"\n",
        "    footer-emails: \"abc@example.com\"\n",
        "    footer-color: \"ebcfb2\"\n",
        "    keywords: [\"Typesetting\", \"Typst\", \"Quarto\"]\n",
        "---"
      ],
      "id": "b70ae4f4"
    },
    {
      "cell_type": "code",
      "metadata": {},
      "source": [
        "#| label: fig-polar\n",
        "#| fig-cap: A line plot on a polar axis\n",
        "\n",
        "import numpy as np\n",
        "import matplotlib.pyplot as plt\n",
        "\n",
        "r = np.arange(0, 2, 0.01)\n",
        "theta = 2 * np.pi * r\n",
        "fig, ax = plt.subplots(\n",
        "  subplot_kw = {'projection': 'polar'} \n",
        ")\n",
        "ax.plot(theta, r)\n",
        "ax.set_rticks([0.5, 1, 1.5, 2])\n",
        "ax.grid(True)\n",
        "plt.show()"
      ],
      "id": "fig-polar",
      "execution_count": null,
      "outputs": []
    }
  ],
  "metadata": {
    "kernelspec": {
      "name": "python3",
      "language": "python",
      "display_name": "Python 3 (ipykernel)"
    }
  },
  "nbformat": 4,
  "nbformat_minor": 5
}